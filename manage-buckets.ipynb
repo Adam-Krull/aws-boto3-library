{
 "cells": [
  {
   "cell_type": "markdown",
   "id": "c5722994",
   "metadata": {},
   "source": [
    "# S3 buckets with boto3 library\n",
    "\n",
    "The examples used to guide this notebook can be found [here](https://boto3.amazonaws.com/v1/documentation/api/latest/guide/s3-examples.html). These are examples from the boto3 documentation that demo basic s3 functionality.\n",
    "\n",
    "The logging library documentation can be found [here](https://docs.python.org/3/library/logging.html). The library logs events for applications and libraries. It formats and returns error messages with the designated importance. In this case, it formats and returns ClientErrors as errors.\n",
    "\n",
    "The boto3 library documentation can be found [here](https://boto3.amazonaws.com/v1/documentation/api/latest/index.html). This library is the AWS SDK (Amazon Web Services Software Development Kit) that allows developers to create and interact with AWS services.\n",
    "\n",
    "The os library documentation can be found [here](https://docs.python.org/3/library/os.html). The os library interacts with the operating system and helps python understand the file system.\n",
    "\n",
    "The specific documentation for exception handling with the boto3 library can be found [here](https://boto3.amazonaws.com/v1/documentation/api/latest/guide/error-handling.html). The ClientError is the most common kind of error, which is thrown anytime an AWS service returns an error response to a request made by the boto3 client."
   ]
  },
  {
   "cell_type": "code",
   "execution_count": 23,
   "id": "143900b3",
   "metadata": {},
   "outputs": [],
   "source": [
    "#Imports\n",
    "import logging\n",
    "import boto3\n",
    "import os\n",
    "from botocore.exceptions import ClientError"
   ]
  },
  {
   "cell_type": "code",
   "execution_count": 15,
   "id": "c8a09c91",
   "metadata": {},
   "outputs": [],
   "source": [
    "#Variable names\n",
    "bucket_name = 'python-bucket112113114115'\n",
    "filename = 'hello_world.rtf'"
   ]
  },
  {
   "cell_type": "markdown",
   "id": "91c494a0",
   "metadata": {},
   "source": [
    "This function, and all future functions in this document, follow the same format. The boto3 client is initialized to a variable, and that variable is used to perform a function. The function always incorporates exception handling. If there is an error with the AWS service, it will return a ClientError to the boto3 client. The function handles ClientError exceptions with the try/except clause, returning the error message if the action fails to complete."
   ]
  },
  {
   "cell_type": "code",
   "execution_count": 16,
   "id": "f67bfc42",
   "metadata": {},
   "outputs": [],
   "source": [
    "#Define function to create bucket\n",
    "def create_bucket(bucket_name, region='us-east-2'):\n",
    "    \n",
    "    try:\n",
    "        s3_client = boto3.client('s3')\n",
    "        location = {'LocationConstraint': region}\n",
    "        s3_client.create_bucket(Bucket=bucket_name,\n",
    "                                CreateBucketConfiguration=location)\n",
    "    except ClientError as e:\n",
    "        logging.error(e)\n",
    "        return False\n",
    "    return True"
   ]
  },
  {
   "cell_type": "code",
   "execution_count": 17,
   "id": "85857433",
   "metadata": {},
   "outputs": [
    {
     "data": {
      "text/plain": [
       "True"
      ]
     },
     "execution_count": 17,
     "metadata": {},
     "output_type": "execute_result"
    }
   ],
   "source": [
    "#Create the bucket\n",
    "create_bucket(bucket_name)"
   ]
  },
  {
   "cell_type": "code",
   "execution_count": 18,
   "id": "85570b9d",
   "metadata": {},
   "outputs": [
    {
     "name": "stderr",
     "output_type": "stream",
     "text": [
      "ERROR:root:An error occurred (BucketAlreadyOwnedByYou) when calling the CreateBucket operation: Your previous request to create the named bucket succeeded and you already own it.\n"
     ]
    },
    {
     "data": {
      "text/plain": [
       "False"
      ]
     },
     "execution_count": 18,
     "metadata": {},
     "output_type": "execute_result"
    }
   ],
   "source": [
    "#Try running a second time to observe error message\n",
    "create_bucket(bucket_name)"
   ]
  },
  {
   "cell_type": "markdown",
   "id": "92932eb1",
   "metadata": {},
   "source": [
    "I tried to create the same bucket twice to see what kind of error message is returned by AWS. The error message is informative."
   ]
  },
  {
   "cell_type": "markdown",
   "id": "6cacc0e4",
   "metadata": {},
   "source": [
    "I can retrieve the list of buckets owned by my AWS account."
   ]
  },
  {
   "cell_type": "code",
   "execution_count": 19,
   "id": "592c3ef2",
   "metadata": {},
   "outputs": [
    {
     "data": {
      "text/plain": [
       "{'ResponseMetadata': {'RequestId': 'GT9XNAX5R2920HPD',\n",
       "  'HostId': '/NCwOL1cNCkRS6gYHMZmcNXpJ9FZG1gCMy851izyDUyfwsEADQYBGpLgme/IxAqRP3UBz484Ivc=',\n",
       "  'HTTPStatusCode': 200,\n",
       "  'HTTPHeaders': {'x-amz-id-2': '/NCwOL1cNCkRS6gYHMZmcNXpJ9FZG1gCMy851izyDUyfwsEADQYBGpLgme/IxAqRP3UBz484Ivc=',\n",
       "   'x-amz-request-id': 'GT9XNAX5R2920HPD',\n",
       "   'date': 'Mon, 02 Jan 2023 21:29:11 GMT',\n",
       "   'content-type': 'application/xml',\n",
       "   'transfer-encoding': 'chunked',\n",
       "   'server': 'AmazonS3'},\n",
       "  'RetryAttempts': 0},\n",
       " 'Buckets': [{'Name': 'cdk-hnb659fds-assets-454840057477-us-east-2',\n",
       "   'CreationDate': datetime.datetime(2022, 12, 12, 22, 21, 35, tzinfo=tzutc())},\n",
       "  {'Name': 'createbucketstack-testbuckete6e05abe-u3f8puhr36vt',\n",
       "   'CreationDate': datetime.datetime(2022, 12, 12, 22, 46, 40, tzinfo=tzutc())},\n",
       "  {'Name': 'python-bucket112113114115',\n",
       "   'CreationDate': datetime.datetime(2023, 1, 2, 21, 29, 8, tzinfo=tzutc())}],\n",
       " 'Owner': {'ID': '45511f3aa385088f994d52aa08800b66fed3a434b1c293ad12e3d5c28934d2cf'}}"
      ]
     },
     "execution_count": 19,
     "metadata": {},
     "output_type": "execute_result"
    }
   ],
   "source": [
    "#Retrieve list of buckets\n",
    "s3 = boto3.client('s3')\n",
    "response = s3.list_buckets()\n",
    "response"
   ]
  },
  {
   "cell_type": "code",
   "execution_count": 20,
   "id": "c0b55949",
   "metadata": {},
   "outputs": [
    {
     "data": {
      "text/plain": [
       "dict_keys(['ResponseMetadata', 'Buckets', 'Owner'])"
      ]
     },
     "execution_count": 20,
     "metadata": {},
     "output_type": "execute_result"
    }
   ],
   "source": [
    "#Look at keys of dictionary\n",
    "response.keys()"
   ]
  },
  {
   "cell_type": "code",
   "execution_count": 21,
   "id": "99f530dd",
   "metadata": {},
   "outputs": [
    {
     "data": {
      "text/plain": [
       "[{'Name': 'cdk-hnb659fds-assets-454840057477-us-east-2',\n",
       "  'CreationDate': datetime.datetime(2022, 12, 12, 22, 21, 35, tzinfo=tzutc())},\n",
       " {'Name': 'createbucketstack-testbuckete6e05abe-u3f8puhr36vt',\n",
       "  'CreationDate': datetime.datetime(2022, 12, 12, 22, 46, 40, tzinfo=tzutc())},\n",
       " {'Name': 'python-bucket112113114115',\n",
       "  'CreationDate': datetime.datetime(2023, 1, 2, 21, 29, 8, tzinfo=tzutc())}]"
      ]
     },
     "execution_count": 21,
     "metadata": {},
     "output_type": "execute_result"
    }
   ],
   "source": [
    "#Look inside buckets\n",
    "response['Buckets']"
   ]
  },
  {
   "cell_type": "markdown",
   "id": "a3739963",
   "metadata": {},
   "source": [
    "The Buckets key returns a JSON object of every bucket created in the account. The name of each bucket can be accessed by looping through the list of buckets and extracting the name from each dictionary."
   ]
  },
  {
   "cell_type": "code",
   "execution_count": 22,
   "id": "bdb10bdb",
   "metadata": {},
   "outputs": [
    {
     "name": "stdout",
     "output_type": "stream",
     "text": [
      "-----------------\n",
      "\n",
      "cdk-hnb659fds-assets-454840057477-us-east-2\n",
      "\n",
      "-----------------\n",
      "\n",
      "createbucketstack-testbuckete6e05abe-u3f8puhr36vt\n",
      "\n",
      "-----------------\n",
      "\n",
      "python-bucket112113114115\n",
      "\n"
     ]
    }
   ],
   "source": [
    "for bucket in response['Buckets']:\n",
    "    print('-----------------')\n",
    "    print()\n",
    "    print(bucket['Name'])\n",
    "    print()"
   ]
  },
  {
   "cell_type": "markdown",
   "id": "3b5e2b2d",
   "metadata": {},
   "source": [
    "I can upload files to my s3 bucket using the library. "
   ]
  },
  {
   "cell_type": "code",
   "execution_count": 24,
   "id": "8df0b864",
   "metadata": {},
   "outputs": [],
   "source": [
    "#Define function to put object in bucket\n",
    "def put_object(bucket, filename):\n",
    "    \n",
    "    try:\n",
    "        s3_client = boto3.client('s3')\n",
    "        s3_client.put_object(Bucket=bucket, Key=filename)\n",
    "        \n",
    "    except ClientError as e:\n",
    "        logging.error(e)\n",
    "        return False\n",
    "    return True"
   ]
  },
  {
   "cell_type": "code",
   "execution_count": 25,
   "id": "23177f2b",
   "metadata": {},
   "outputs": [
    {
     "data": {
      "text/plain": [
       "True"
      ]
     },
     "execution_count": 25,
     "metadata": {},
     "output_type": "execute_result"
    }
   ],
   "source": [
    "#Put object in bucket\n",
    "put_object(bucket_name, filename)"
   ]
  },
  {
   "cell_type": "code",
   "execution_count": 8,
   "id": "5bc51bed",
   "metadata": {},
   "outputs": [],
   "source": [
    "#Define function to delete object from bucket\n",
    "def delete_object(bucket, filename):\n",
    "    \n",
    "    try:\n",
    "        s3_client = boto3.client('s3')\n",
    "        s3_client.delete_object(Bucket=bucket, Key=filename)\n",
    "        \n",
    "    except ClientError as e:\n",
    "        logging.error(e)\n",
    "        return False\n",
    "    return True"
   ]
  },
  {
   "cell_type": "code",
   "execution_count": 26,
   "id": "e2a6f63d",
   "metadata": {},
   "outputs": [
    {
     "data": {
      "text/plain": [
       "True"
      ]
     },
     "execution_count": 26,
     "metadata": {},
     "output_type": "execute_result"
    }
   ],
   "source": [
    "#Delete object\n",
    "delete_object(bucket_name, filename)"
   ]
  },
  {
   "cell_type": "code",
   "execution_count": 10,
   "id": "13344851",
   "metadata": {},
   "outputs": [
    {
     "data": {
      "text/plain": [
       "True"
      ]
     },
     "execution_count": 10,
     "metadata": {},
     "output_type": "execute_result"
    }
   ],
   "source": [
    "#Delete object.. again?\n",
    "delete_object(bucket_name, filename)"
   ]
  },
  {
   "cell_type": "markdown",
   "id": "23be64a0",
   "metadata": {},
   "source": [
    "I tried to delete the same object twice. It does not error out when attempting to delete an object that does not exist, which I found interesting."
   ]
  },
  {
   "cell_type": "code",
   "execution_count": 11,
   "id": "e0c43b28",
   "metadata": {},
   "outputs": [],
   "source": [
    "#Define function to delete bucket\n",
    "def delete_bucket(bucket):\n",
    "    \n",
    "    try:\n",
    "        s3_client = boto3.client('s3')\n",
    "        s3_client.delete_bucket(Bucket=bucket)\n",
    "        \n",
    "    except ClientError as e:\n",
    "        logging.error(e)\n",
    "        return False\n",
    "    return True"
   ]
  },
  {
   "cell_type": "code",
   "execution_count": 12,
   "id": "0087a517",
   "metadata": {},
   "outputs": [
    {
     "data": {
      "text/plain": [
       "True"
      ]
     },
     "execution_count": 12,
     "metadata": {},
     "output_type": "execute_result"
    }
   ],
   "source": [
    "#Delete bucket\n",
    "delete_bucket(bucket_name)"
   ]
  },
  {
   "cell_type": "code",
   "execution_count": 13,
   "id": "efe2c6e3",
   "metadata": {},
   "outputs": [
    {
     "name": "stderr",
     "output_type": "stream",
     "text": [
      "ERROR:root:An error occurred (NoSuchBucket) when calling the DeleteBucket operation: The specified bucket does not exist\n"
     ]
    },
    {
     "data": {
      "text/plain": [
       "False"
      ]
     },
     "execution_count": 13,
     "metadata": {},
     "output_type": "execute_result"
    }
   ],
   "source": [
    "#Attempt to delete bucket a second time\n",
    "delete_bucket(bucket_name)"
   ]
  },
  {
   "cell_type": "markdown",
   "id": "59ea7954",
   "metadata": {},
   "source": [
    "Attempting to delete the same bucket twice does return an error. The message informs me that my specified bucket does not exist."
   ]
  },
  {
   "cell_type": "code",
   "execution_count": null,
   "id": "d641e81c",
   "metadata": {},
   "outputs": [],
   "source": []
  }
 ],
 "metadata": {
  "kernelspec": {
   "display_name": "Python 3 (ipykernel)",
   "language": "python",
   "name": "python3"
  },
  "language_info": {
   "codemirror_mode": {
    "name": "ipython",
    "version": 3
   },
   "file_extension": ".py",
   "mimetype": "text/x-python",
   "name": "python",
   "nbconvert_exporter": "python",
   "pygments_lexer": "ipython3",
   "version": "3.9.12"
  }
 },
 "nbformat": 4,
 "nbformat_minor": 5
}
